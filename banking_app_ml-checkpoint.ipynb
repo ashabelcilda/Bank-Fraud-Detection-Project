{
 "cells": [
  {
   "cell_type": "markdown",
   "metadata": {
    "id": "kiERHitPbwVD"
   },
   "source": [
    "# **Banking Fraud detection using Paysim Dataset**\n"
   ]
  },
  {
   "cell_type": "code",
   "execution_count": 1,
   "metadata": {
    "colab": {
     "base_uri": "https://localhost:8080/"
    },
    "id": "_7CBojFObu38",
    "outputId": "7c295d52-d21e-4b47-cafd-9023342480dd"
   },
   "outputs": [
    {
     "name": "stdout",
     "output_type": "stream",
     "text": [
      "Name: scikit-learn\n",
      "Version: 1.4.1.post1\n",
      "Summary: A set of python modules for machine learning and data mining\n",
      "Home-page: https://scikit-learn.org\n",
      "Author: \n",
      "Author-email: \n",
      "License: new BSD\n",
      "Location: c:\\users\\ashac\\anaconda3\\lib\\site-packages\n",
      "Requires: joblib, numpy, scipy, threadpoolctl\n",
      "Required-by: scikit-learn-intelex, scikit-plot\n"
     ]
    }
   ],
   "source": [
    "!pip show scikit-learn"
   ]
  },
  {
   "cell_type": "code",
   "execution_count": 2,
   "metadata": {
    "colab": {
     "base_uri": "https://localhost:8080/"
    },
    "id": "973IQGQPdbBX",
    "outputId": "d510af4b-3384-4582-bbab-82794875e63e"
   },
   "outputs": [
    {
     "name": "stdout",
     "output_type": "stream",
     "text": [
      "Requirement already satisfied: scikit-learn in c:\\users\\ashac\\anaconda3\\lib\\site-packages (1.4.1.post1)"
     ]
    },
    {
     "name": "stderr",
     "output_type": "stream",
     "text": [
      "WARNING: Retrying (Retry(total=4, connect=None, read=None, redirect=None, status=None)) after connection broken by 'NewConnectionError('<pip._vendor.urllib3.connection.HTTPSConnection object at 0x000001C3C2452370>: Failed to establish a new connection: [Errno 11001] getaddrinfo failed')': /simple/scikit-learn/\n",
      "WARNING: Retrying (Retry(total=3, connect=None, read=None, redirect=None, status=None)) after connection broken by 'NewConnectionError('<pip._vendor.urllib3.connection.HTTPSConnection object at 0x000001C3C2452670>: Failed to establish a new connection: [Errno 11001] getaddrinfo failed')': /simple/scikit-learn/\n",
      "WARNING: Retrying (Retry(total=2, connect=None, read=None, redirect=None, status=None)) after connection broken by 'NewConnectionError('<pip._vendor.urllib3.connection.HTTPSConnection object at 0x000001C3C2452820>: Failed to establish a new connection: [Errno 11001] getaddrinfo failed')': /simple/scikit-learn/\n",
      "WARNING: Retrying (Retry(total=1, connect=None, read=None, redirect=None, status=None)) after connection broken by 'NewConnectionError('<pip._vendor.urllib3.connection.HTTPSConnection object at 0x000001C3C24529D0>: Failed to establish a new connection: [Errno 11001] getaddrinfo failed')': /simple/scikit-learn/\n",
      "WARNING: Retrying (Retry(total=0, connect=None, read=None, redirect=None, status=None)) after connection broken by 'NewConnectionError('<pip._vendor.urllib3.connection.HTTPSConnection object at 0x000001C3C2452B80>: Failed to establish a new connection: [Errno 11001] getaddrinfo failed')': /simple/scikit-learn/\n",
      "\n",
      "[notice] A new release of pip is available: 23.3.2 -> 24.0\n",
      "[notice] To update, run: python.exe -m pip install --upgrade pip\n"
     ]
    },
    {
     "name": "stdout",
     "output_type": "stream",
     "text": [
      "\n",
      "Requirement already satisfied: numpy<2.0,>=1.19.5 in c:\\users\\ashac\\anaconda3\\lib\\site-packages (from scikit-learn) (1.26.3)\n",
      "Requirement already satisfied: scipy>=1.6.0 in c:\\users\\ashac\\anaconda3\\lib\\site-packages (from scikit-learn) (1.11.1)\n",
      "Requirement already satisfied: joblib>=1.2.0 in c:\\users\\ashac\\anaconda3\\lib\\site-packages (from scikit-learn) (1.3.2)\n",
      "Requirement already satisfied: threadpoolctl>=2.0.0 in c:\\users\\ashac\\anaconda3\\lib\\site-packages (from scikit-learn) (2.2.0)\n"
     ]
    }
   ],
   "source": [
    "!pip  install --upgrade scikit-learn"
   ]
  },
  {
   "cell_type": "code",
   "execution_count": 3,
   "metadata": {
    "colab": {
     "base_uri": "https://localhost:8080/"
    },
    "id": "n-lFWpWFhj3Q",
    "outputId": "348200e5-0124-4983-d1ec-7193a8d10b4d",
    "scrolled": true
   },
   "outputs": [
    {
     "name": "stdout",
     "output_type": "stream",
     "text": [
      "Name: scikit-learn\n",
      "Version: 1.4.1.post1\n",
      "Summary: A set of python modules for machine learning and data mining\n",
      "Home-page: https://scikit-learn.org\n",
      "Author: \n",
      "Author-email: \n",
      "License: new BSD\n",
      "Location: c:\\users\\ashac\\anaconda3\\lib\\site-packages\n",
      "Requires: joblib, numpy, scipy, threadpoolctl\n",
      "Required-by: scikit-learn-intelex, scikit-plot\n"
     ]
    }
   ],
   "source": [
    "!pip show scikit-learn"
   ]
  },
  {
   "cell_type": "markdown",
   "metadata": {
    "id": "mNY1eb9icgSF"
   },
   "source": [
    "**Import all necessary libraries**"
   ]
  },
  {
   "cell_type": "code",
   "execution_count": 4,
   "metadata": {
    "id": "4eNlhzPDdOsZ"
   },
   "outputs": [],
   "source": [
    "import pandas as pd\n",
    "import numpy as np\n",
    "import seaborn as sns\n",
    "import matplotlib.pyplot as plt\n",
    "import pickle"
   ]
  },
  {
   "cell_type": "markdown",
   "metadata": {
    "id": "b_7gYTShc-7F"
   },
   "source": [
    "**Read csv file**"
   ]
  },
  {
   "cell_type": "code",
   "execution_count": 5,
   "metadata": {
    "colab": {
     "base_uri": "https://localhost:8080/",
     "height": 363
    },
    "id": "nQegK27BbVtn",
    "outputId": "5d6f334c-d7e6-42ef-a840-665f91b79de7"
   },
   "outputs": [
    {
     "data": {
      "text/html": [
       "<div>\n",
       "<style scoped>\n",
       "    .dataframe tbody tr th:only-of-type {\n",
       "        vertical-align: middle;\n",
       "    }\n",
       "\n",
       "    .dataframe tbody tr th {\n",
       "        vertical-align: top;\n",
       "    }\n",
       "\n",
       "    .dataframe thead th {\n",
       "        text-align: right;\n",
       "    }\n",
       "</style>\n",
       "<table border=\"1\" class=\"dataframe\">\n",
       "  <thead>\n",
       "    <tr style=\"text-align: right;\">\n",
       "      <th></th>\n",
       "      <th>step</th>\n",
       "      <th>type</th>\n",
       "      <th>amount</th>\n",
       "      <th>nameOrig</th>\n",
       "      <th>oldbalanceOrg</th>\n",
       "      <th>newbalanceOrig</th>\n",
       "      <th>nameDest</th>\n",
       "      <th>oldbalanceDest</th>\n",
       "      <th>newbalanceDest</th>\n",
       "      <th>isFraud</th>\n",
       "      <th>isFlaggedFraud</th>\n",
       "    </tr>\n",
       "  </thead>\n",
       "  <tbody>\n",
       "    <tr>\n",
       "      <th>0</th>\n",
       "      <td>1</td>\n",
       "      <td>PAYMENT</td>\n",
       "      <td>9839.64</td>\n",
       "      <td>C1231006815</td>\n",
       "      <td>170136.00</td>\n",
       "      <td>160296.36</td>\n",
       "      <td>M1979787155</td>\n",
       "      <td>0.0</td>\n",
       "      <td>0.00</td>\n",
       "      <td>0</td>\n",
       "      <td>0</td>\n",
       "    </tr>\n",
       "    <tr>\n",
       "      <th>1</th>\n",
       "      <td>1</td>\n",
       "      <td>PAYMENT</td>\n",
       "      <td>1864.28</td>\n",
       "      <td>C1666544295</td>\n",
       "      <td>21249.00</td>\n",
       "      <td>19384.72</td>\n",
       "      <td>M2044282225</td>\n",
       "      <td>0.0</td>\n",
       "      <td>0.00</td>\n",
       "      <td>0</td>\n",
       "      <td>0</td>\n",
       "    </tr>\n",
       "    <tr>\n",
       "      <th>2</th>\n",
       "      <td>1</td>\n",
       "      <td>TRANSFER</td>\n",
       "      <td>181.00</td>\n",
       "      <td>C1305486145</td>\n",
       "      <td>181.00</td>\n",
       "      <td>0.00</td>\n",
       "      <td>C553264065</td>\n",
       "      <td>0.0</td>\n",
       "      <td>0.00</td>\n",
       "      <td>1</td>\n",
       "      <td>0</td>\n",
       "    </tr>\n",
       "    <tr>\n",
       "      <th>3</th>\n",
       "      <td>1</td>\n",
       "      <td>CASH_OUT</td>\n",
       "      <td>181.00</td>\n",
       "      <td>C840083671</td>\n",
       "      <td>181.00</td>\n",
       "      <td>0.00</td>\n",
       "      <td>C38997010</td>\n",
       "      <td>21182.0</td>\n",
       "      <td>0.00</td>\n",
       "      <td>1</td>\n",
       "      <td>0</td>\n",
       "    </tr>\n",
       "    <tr>\n",
       "      <th>4</th>\n",
       "      <td>1</td>\n",
       "      <td>PAYMENT</td>\n",
       "      <td>11668.14</td>\n",
       "      <td>C2048537720</td>\n",
       "      <td>41554.00</td>\n",
       "      <td>29885.86</td>\n",
       "      <td>M1230701703</td>\n",
       "      <td>0.0</td>\n",
       "      <td>0.00</td>\n",
       "      <td>0</td>\n",
       "      <td>0</td>\n",
       "    </tr>\n",
       "    <tr>\n",
       "      <th>5</th>\n",
       "      <td>1</td>\n",
       "      <td>PAYMENT</td>\n",
       "      <td>7817.71</td>\n",
       "      <td>C90045638</td>\n",
       "      <td>53860.00</td>\n",
       "      <td>46042.29</td>\n",
       "      <td>M573487274</td>\n",
       "      <td>0.0</td>\n",
       "      <td>0.00</td>\n",
       "      <td>0</td>\n",
       "      <td>0</td>\n",
       "    </tr>\n",
       "    <tr>\n",
       "      <th>6</th>\n",
       "      <td>1</td>\n",
       "      <td>PAYMENT</td>\n",
       "      <td>7107.77</td>\n",
       "      <td>C154988899</td>\n",
       "      <td>183195.00</td>\n",
       "      <td>176087.23</td>\n",
       "      <td>M408069119</td>\n",
       "      <td>0.0</td>\n",
       "      <td>0.00</td>\n",
       "      <td>0</td>\n",
       "      <td>0</td>\n",
       "    </tr>\n",
       "    <tr>\n",
       "      <th>7</th>\n",
       "      <td>1</td>\n",
       "      <td>PAYMENT</td>\n",
       "      <td>7861.64</td>\n",
       "      <td>C1912850431</td>\n",
       "      <td>176087.23</td>\n",
       "      <td>168225.59</td>\n",
       "      <td>M633326333</td>\n",
       "      <td>0.0</td>\n",
       "      <td>0.00</td>\n",
       "      <td>0</td>\n",
       "      <td>0</td>\n",
       "    </tr>\n",
       "    <tr>\n",
       "      <th>8</th>\n",
       "      <td>1</td>\n",
       "      <td>PAYMENT</td>\n",
       "      <td>4024.36</td>\n",
       "      <td>C1265012928</td>\n",
       "      <td>2671.00</td>\n",
       "      <td>0.00</td>\n",
       "      <td>M1176932104</td>\n",
       "      <td>0.0</td>\n",
       "      <td>0.00</td>\n",
       "      <td>0</td>\n",
       "      <td>0</td>\n",
       "    </tr>\n",
       "    <tr>\n",
       "      <th>9</th>\n",
       "      <td>1</td>\n",
       "      <td>DEBIT</td>\n",
       "      <td>5337.77</td>\n",
       "      <td>C712410124</td>\n",
       "      <td>41720.00</td>\n",
       "      <td>36382.23</td>\n",
       "      <td>C195600860</td>\n",
       "      <td>41898.0</td>\n",
       "      <td>40348.79</td>\n",
       "      <td>0</td>\n",
       "      <td>0</td>\n",
       "    </tr>\n",
       "  </tbody>\n",
       "</table>\n",
       "</div>"
      ],
      "text/plain": [
       "   step      type    amount     nameOrig  oldbalanceOrg  newbalanceOrig  \\\n",
       "0     1   PAYMENT   9839.64  C1231006815      170136.00       160296.36   \n",
       "1     1   PAYMENT   1864.28  C1666544295       21249.00        19384.72   \n",
       "2     1  TRANSFER    181.00  C1305486145         181.00            0.00   \n",
       "3     1  CASH_OUT    181.00   C840083671         181.00            0.00   \n",
       "4     1   PAYMENT  11668.14  C2048537720       41554.00        29885.86   \n",
       "5     1   PAYMENT   7817.71    C90045638       53860.00        46042.29   \n",
       "6     1   PAYMENT   7107.77   C154988899      183195.00       176087.23   \n",
       "7     1   PAYMENT   7861.64  C1912850431      176087.23       168225.59   \n",
       "8     1   PAYMENT   4024.36  C1265012928        2671.00            0.00   \n",
       "9     1     DEBIT   5337.77   C712410124       41720.00        36382.23   \n",
       "\n",
       "      nameDest  oldbalanceDest  newbalanceDest  isFraud  isFlaggedFraud  \n",
       "0  M1979787155             0.0            0.00        0               0  \n",
       "1  M2044282225             0.0            0.00        0               0  \n",
       "2   C553264065             0.0            0.00        1               0  \n",
       "3    C38997010         21182.0            0.00        1               0  \n",
       "4  M1230701703             0.0            0.00        0               0  \n",
       "5   M573487274             0.0            0.00        0               0  \n",
       "6   M408069119             0.0            0.00        0               0  \n",
       "7   M633326333             0.0            0.00        0               0  \n",
       "8  M1176932104             0.0            0.00        0               0  \n",
       "9   C195600860         41898.0        40348.79        0               0  "
      ]
     },
     "execution_count": 5,
     "metadata": {},
     "output_type": "execute_result"
    }
   ],
   "source": [
    "# Read the CSV file into a Pandas DataFrame\n",
    "data = pd.read_csv(\"PS_20174392719_1491204439457_log.csv\")\n",
    "df=pd.DataFrame(data)\n",
    "# Display the first few rows of the DataFrame\n",
    "df.head(10)"
   ]
  },
  {
   "cell_type": "markdown",
   "metadata": {
    "id": "gxnTNymRdMnr"
   },
   "source": [
    "**Cheak info of dataset**"
   ]
  },
  {
   "cell_type": "code",
   "execution_count": 6,
   "metadata": {
    "colab": {
     "base_uri": "https://localhost:8080/"
    },
    "id": "k0oHXpVNR3Hl",
    "outputId": "c81e68f7-a111-45df-f87e-8980673d18f0"
   },
   "outputs": [
    {
     "name": "stdout",
     "output_type": "stream",
     "text": [
      "<class 'pandas.core.frame.DataFrame'>\n",
      "RangeIndex: 6362620 entries, 0 to 6362619\n",
      "Data columns (total 11 columns):\n",
      " #   Column          Dtype  \n",
      "---  ------          -----  \n",
      " 0   step            int64  \n",
      " 1   type            object \n",
      " 2   amount          float64\n",
      " 3   nameOrig        object \n",
      " 4   oldbalanceOrg   float64\n",
      " 5   newbalanceOrig  float64\n",
      " 6   nameDest        object \n",
      " 7   oldbalanceDest  float64\n",
      " 8   newbalanceDest  float64\n",
      " 9   isFraud         int64  \n",
      " 10  isFlaggedFraud  int64  \n",
      "dtypes: float64(5), int64(3), object(3)\n",
      "memory usage: 534.0+ MB\n"
     ]
    }
   ],
   "source": [
    "df.info()"
   ]
  },
  {
   "cell_type": "markdown",
   "metadata": {
    "id": "IJUO5_oFdVDB"
   },
   "source": [
    "**Cheaking the null entries**"
   ]
  },
  {
   "cell_type": "code",
   "execution_count": 7,
   "metadata": {
    "colab": {
     "base_uri": "https://localhost:8080/"
    },
    "id": "uVI7vCORIAg3",
    "outputId": "39f8b75c-9a2f-4684-d4b5-5e3cb8090148"
   },
   "outputs": [
    {
     "data": {
      "text/plain": [
       "step              0\n",
       "type              0\n",
       "amount            0\n",
       "nameOrig          0\n",
       "oldbalanceOrg     0\n",
       "newbalanceOrig    0\n",
       "nameDest          0\n",
       "oldbalanceDest    0\n",
       "newbalanceDest    0\n",
       "isFraud           0\n",
       "isFlaggedFraud    0\n",
       "dtype: int64"
      ]
     },
     "execution_count": 7,
     "metadata": {},
     "output_type": "execute_result"
    }
   ],
   "source": [
    "df.isnull().sum()"
   ]
  },
  {
   "cell_type": "markdown",
   "metadata": {
    "id": "_XfShY4cdg77"
   },
   "source": [
    "**value counts of \"IsFraud\" column**"
   ]
  },
  {
   "cell_type": "code",
   "execution_count": 8,
   "metadata": {
    "colab": {
     "base_uri": "https://localhost:8080/"
    },
    "id": "Lh8M90liIMvE",
    "outputId": "29445d20-6fef-4ef9-d196-c4cfa2db9fdc"
   },
   "outputs": [
    {
     "data": {
      "text/plain": [
       "0    6354407\n",
       "1       8213\n",
       "Name: isFraud, dtype: int64"
      ]
     },
     "execution_count": 8,
     "metadata": {},
     "output_type": "execute_result"
    }
   ],
   "source": [
    "df['isFraud'].value_counts()"
   ]
  },
  {
   "cell_type": "markdown",
   "metadata": {
    "id": "9psZ1hBveEAB"
   },
   "source": [
    "**value counts of \"type\" column**"
   ]
  },
  {
   "cell_type": "code",
   "execution_count": 9,
   "metadata": {
    "colab": {
     "base_uri": "https://localhost:8080/"
    },
    "id": "RWjB-mb6IV14",
    "outputId": "c5d23342-79a5-4c79-918d-f40e3e723027"
   },
   "outputs": [
    {
     "data": {
      "text/plain": [
       "CASH_OUT    2237500\n",
       "PAYMENT     2151495\n",
       "CASH_IN     1399284\n",
       "TRANSFER     532909\n",
       "DEBIT         41432\n",
       "Name: type, dtype: int64"
      ]
     },
     "execution_count": 9,
     "metadata": {},
     "output_type": "execute_result"
    }
   ],
   "source": [
    "df['type'].value_counts()"
   ]
  },
  {
   "cell_type": "markdown",
   "metadata": {
    "id": "fLWo2MjeeMjP"
   },
   "source": [
    "**count plot of \"isFraud\"**"
   ]
  },
  {
   "cell_type": "code",
   "execution_count": 10,
   "metadata": {
    "colab": {
     "base_uri": "https://localhost:8080/",
     "height": 489
    },
    "id": "4HDc32VIJeHO",
    "outputId": "2e57d537-ff39-4e65-b54f-bcc0d051db03"
   },
   "outputs": [
    {
     "data": {
      "image/png": "[encoded data removed]",
      "text/plain": [
       "<Figure size 432x288 with 1 Axes>"
      ]
     },
     "metadata": {
      "needs_background": "light"
     },
     "output_type": "display_data"
    }
   ],
   "source": [
    "import seaborn as sns\n",
    "import matplotlib.pyplot as plt\n",
    "\n",
    "# Assuming 'isFraud' is a column in your DataFrame 'df'\n",
    "sns.countplot(data=df, x='isFraud')\n",
    "plt.title(\"1 Fraud                         0 non-Fraud\")\n",
    "plt.show()"
   ]
  },
  {
   "cell_type": "markdown",
   "metadata": {
    "id": "yS9v-ekbEyuw"
   },
   "source": [
    "**Frequencies of transaction types**"
   ]
  },
  {
   "cell_type": "code",
   "execution_count": 11,
   "metadata": {
    "colab": {
     "base_uri": "https://localhost:8080/",
     "height": 489
    },
    "id": "Lynnj9duJjfk",
    "outputId": "31c68554-baa1-4732-b337-f430311fd86b"
   },
   "outputs": [
    {
     "data": {
      "image/png": "[encoded data removed]",
      "text/plain": [
       "<Figure size 432x288 with 1 Axes>"
      ]
     },
     "metadata": {
      "needs_background": "light"
     },
     "output_type": "display_data"
    }
   ],
   "source": [
    "import seaborn as sns\n",
    "import matplotlib.pyplot as plt\n",
    "\n",
    "# Assuming 'type' is a column in your DataFrame 'df'\n",
    "sns.countplot(data=df, x='type')\n",
    "plt.title(\"Frequencies of transaction types\")\n",
    "plt.show()\n"
   ]
  },
  {
   "cell_type": "markdown",
   "metadata": {
    "id": "Ro3-AYs8Gq7p"
   },
   "source": [
    "**Cheak the persantage of fraud in all 5 types**"
   ]
  },
  {
   "cell_type": "code",
   "execution_count": 12,
   "metadata": {
    "colab": {
     "base_uri": "https://localhost:8080/",
     "height": 521
    },
    "id": "RbRuLUr3H5KN",
    "outputId": "3f40e47a-d66d-4dfd-8e13-d2a38c494544"
   },
   "outputs": [
    {
     "data": {
      "image/png": "[encoded data removed]",
      "text/plain": [
       "<Figure size 432x288 with 1 Axes>"
      ]
     },
     "metadata": {
      "needs_background": "light"
     },
     "output_type": "display_data"
    }
   ],
   "source": [
    "# Group by \"TransactionType\" and calculate the mean of \"isFraud\"\n",
    "fraud_percentage_by_type = df.groupby('type')['isFraud'].mean() * 100\n",
    "# Create a bar plot\n",
    "plt.bar(fraud_percentage_by_type.index, fraud_percentage_by_type.values)\n",
    "# Adding labels and title\n",
    "plt.xlabel('Transaction Type')\n",
    "plt.ylabel('Fraud Percentage')\n",
    "plt.title('Fraud Percentage by Transaction Type')\n",
    "\n",
    "# Rotate x labels for better readability\n",
    "plt.xticks(rotation=45)\n",
    "\n",
    "# Display the plot\n",
    "#plt.tight_layout()\n",
    "plt.show()\n"
   ]
  },
  {
   "cell_type": "markdown",
   "metadata": {
    "id": "T4PXYMwAG65T"
   },
   "source": [
    "**Remove all those entries in which there is no fraud**"
   ]
  },
  {
   "cell_type": "code",
   "execution_count": 13,
   "metadata": {
    "colab": {
     "base_uri": "https://localhost:8080/"
    },
    "id": "8T8hWNA4MSrx",
    "outputId": "1048ca79-df1f-4216-873c-5f4d31f6efd6"
   },
   "outputs": [
    {
     "name": "stdout",
     "output_type": "stream",
     "text": [
      "The new data now has  2770409  transactions.\n"
     ]
    }
   ],
   "source": [
    "\n",
    "data = df.loc[df['type'].isin(['CASH_OUT', 'TRANSFER'])]\n",
    "print('The new data now has ', len(data), ' transactions.')"
   ]
  },
  {
   "cell_type": "markdown",
   "metadata": {
    "id": "F3ydCcVOHWqf"
   },
   "source": [
    "**Number of transactions where the transaction amount is negativet**"
   ]
  },
  {
   "cell_type": "code",
   "execution_count": 14,
   "metadata": {
    "colab": {
     "base_uri": "https://localhost:8080/"
    },
    "id": "4tYSpU4exIhE",
    "outputId": "d4e9f231-bb2f-41ff-93cb-06919f70d38a"
   },
   "outputs": [
    {
     "name": "stdout",
     "output_type": "stream",
     "text": [
      "Number of transactions where the transaction amount is negative: 0\n"
     ]
    }
   ],
   "source": [
    "print('Number of transactions where the transaction amount is negative: ' +\n",
    "str(sum(data['amount'] < 0)))\n",
    "\n"
   ]
  },
  {
   "cell_type": "markdown",
   "metadata": {
    "id": "1Bu_UK_WHd_r"
   },
   "source": [
    "**Number of transactions where the transaction amount is equal to zero**"
   ]
  },
  {
   "cell_type": "code",
   "execution_count": 15,
   "metadata": {
    "colab": {
     "base_uri": "https://localhost:8080/"
    },
    "id": "ncmVO1F24yna",
    "outputId": "23296390-5096-4710-f480-8882e54cc39e"
   },
   "outputs": [
    {
     "name": "stdout",
     "output_type": "stream",
     "text": [
      "Number of transactions where the transaction amount is equal to zero: 16\n"
     ]
    }
   ],
   "source": [
    "print('Number of transactions where the transaction amount is equal to zero: ' +\n",
    "str(sum(data['amount'] == 0)))\n"
   ]
  },
  {
   "cell_type": "markdown",
   "metadata": {
    "id": "Re7sgMy2Hz6l"
   },
   "source": [
    "**Percentage of transactions where originators initial balance is 0**"
   ]
  },
  {
   "cell_type": "code",
   "execution_count": 16,
   "metadata": {
    "colab": {
     "base_uri": "https://localhost:8080/",
     "height": 445
    },
    "id": "Ff5gtEMp5Rdu",
    "outputId": "024dfeb4-f102-472e-9af4-3a63fd0bb773"
   },
   "outputs": [
    {
     "name": "stdout",
     "output_type": "stream",
     "text": [
      "Percentage of transactions where originators initial balance is 0: 47.23\n"
     ]
    },
    {
     "data": {
      "image/png": "[encoded data removed]",
      "text/plain": [
       "<Figure size 432x288 with 1 Axes>"
      ]
     },
     "metadata": {},
     "output_type": "display_data"
    }
   ],
   "source": [
    "no_Ofzero=sum(data['oldbalanceOrg']==0)\n",
    "total=len(data['oldbalanceDest'])\n",
    "percentage=(no_Ofzero/total)*100\n",
    "print(f\"Percentage of transactions where originators initial balance is 0: {percentage:.2f}\")\n",
    "\n",
    "\n",
    "labels = ['Initial Balance 0', 'Initial Balance Not 0']\n",
    "sizes = [percentage, 100 - percentage]\n",
    "colors = ['gold', 'lightskyblue']\n",
    "explode = (0.1, 0)  # explode the 1st slice\n",
    "\n",
    "plt.pie(sizes, explode=explode, labels=labels, colors=colors,\n",
    "autopct='%1.1f%%', shadow=True, startangle=140)\n",
    "\n",
    "plt.axis('equal')  # Equal aspect ratio ensures that pie is drawn as a circle.\n",
    "plt.title(\"Percentage of Transactions where originators Initial Balance 0\")\n",
    "plt.show()\n",
    "\n",
    "\n",
    "\n",
    "\n"
   ]
  },
  {
   "cell_type": "markdown",
   "metadata": {
    "id": "gj7Tp6klIINi"
   },
   "source": [
    "**Percentage of transactions where  destination's final balance is 0**"
   ]
  },
  {
   "cell_type": "code",
   "execution_count": 17,
   "metadata": {
    "colab": {
     "base_uri": "https://localhost:8080/",
     "height": 428
    },
    "id": "TaNlWaRVGWY1",
    "outputId": "16a6bc02-9db8-4ad9-c06c-3a8a331f822b"
   },
   "outputs": [
    {
     "data": {
      "image/png": "[encoded data removed]",
      "text/plain": [
       "<Figure size 432x288 with 1 Axes>"
      ]
     },
     "metadata": {},
     "output_type": "display_data"
    }
   ],
   "source": [
    "\n",
    "no_Ofzero=sum(data['newbalanceDest']==0)\n",
    "total=len(data['newbalanceDest'])\n",
    "percentage=(no_Ofzero/total)*100\n",
    "#print(f\"Percentage of transactions where  destination's final balance is 0:{percantage:.2f}\")\n",
    "\n",
    "#pie plot\n",
    "import matplotlib.pyplot as plt\n",
    "\n",
    "# Data\n",
    "labels = ['Final Balance 0', 'Final Balance Not 0']\n",
    "sizes = [percentage, 100 - percentage]  # Corrected calculation\n",
    "colors = ['gold', 'lightskyblue']\n",
    "explode = (0.1, 0)  # Explode the first slice\n",
    "\n",
    "# Create pie plot\n",
    "plt.pie(sizes, explode=explode, labels=labels, colors=colors,\n",
    "        autopct='%1.1f%%', shadow=True, startangle=140)\n",
    "\n",
    "plt.axis('equal')  # Equal aspect ratio ensures the pie is drawn as a circle.\n",
    "plt.title(\"Percentage of Transactions where destination's final balance is 0\")\n",
    "\n",
    "# Display the plot\n",
    "plt.show()\n"
   ]
  },
  {
   "cell_type": "markdown",
   "metadata": {
    "id": "u4-T1Q5-I0fR"
   },
   "source": [
    "**Transactions where originator balances are not accurately captured**"
   ]
  },
  {
   "cell_type": "code",
   "execution_count": 18,
   "metadata": {
    "colab": {
     "base_uri": "https://localhost:8080/",
     "height": 445
    },
    "id": "cfZuhlcXME7T",
    "outputId": "20b02601-a9fe-41b7-936f-b0ab7ee6752d"
   },
   "outputs": [
    {
     "name": "stdout",
     "output_type": "stream",
     "text": [
      "% transactions where originator balances are not accurately captured:93.72 \n"
     ]
    },
    {
     "data": {
      "image/png": "[encoded data removed]",
      "text/plain": [
       "<Figure size 432x288 with 1 Axes>"
      ]
     },
     "metadata": {},
     "output_type": "display_data"
    }
   ],
   "source": [
    "tolerance = 1e-6\n",
    "not_accuratly_captured=sum(np.abs(data['oldbalanceOrg']-data['amount']==data['newbalanceOrig'])<tolerance)\n",
    "total=len(data['newbalanceOrig'])\n",
    "percentage=(not_accuratly_captured/total)*100\n",
    "print(f\"% transactions where originator balances are not accurately captured:{percentage:.2f} \")\n",
    "\n",
    "\n",
    "labels = [ 'Not Accurately Captured','Accurately Captured']\n",
    "sizes = [percentage,100 - percentage ]\n",
    "colors = ['lightskyblue', 'gold']\n",
    "explode = (0, 0.1)  # Explode the \"Not Accurately Captured\" slice\n",
    "\n",
    "# Create pie plot\n",
    "plt.pie(sizes, explode=explode, labels=labels, colors=colors,\n",
    "        autopct='%1.1f%%', shadow=True, startangle=140)\n",
    "\n",
    "plt.axis('equal')  # Equal aspect ratio ensures the pie is drawn as a circle.\n",
    "plt.title(\"Percentage of Transactions with Inaccurate Originator Balances\")\n",
    "\n",
    "# Display the plot\n",
    "plt.show()"
   ]
  },
  {
   "cell_type": "markdown",
   "metadata": {
    "id": "AGrvIrzSI6PG"
   },
   "source": [
    "**Transactions where destination's balances are not accurately captured**"
   ]
  },
  {
   "cell_type": "code",
   "execution_count": 19,
   "metadata": {
    "colab": {
     "base_uri": "https://localhost:8080/",
     "height": 445
    },
    "id": "EKR_SaN6URcr",
    "outputId": "2cd0fcae-22cc-4d30-b1cd-4eae8df781ce"
   },
   "outputs": [
    {
     "name": "stdout",
     "output_type": "stream",
     "text": [
      "% transactions where destination's balances are not accurately captured:42.09 \n"
     ]
    },
    {
     "data": {
      "image/png": "[encoded data removed]",
      "text/plain": [
       "<Figure size 432x288 with 1 Axes>"
      ]
     },
     "metadata": {},
     "output_type": "display_data"
    }
   ],
   "source": [
    "tolerance = 1e-6\n",
    "not_accuratly_captured=sum(np.abs(data['amount']+data['oldbalanceDest']==data['newbalanceDest'])<tolerance)\n",
    "total=len(data['newbalanceDest'])\n",
    "percentage=(not_accuratly_captured/total)*100\n",
    "print(f\"% transactions where destination's balances are not accurately captured:{percentage:.2f} \")\n",
    "\n",
    "\n",
    "# Data for the pie plot\n",
    "labels = [\"Accurately Captured\", \"Not Accurately Captured\"]\n",
    "sizes = [100 - percentage, percentage]\n",
    "colors = ['lightskyblue', 'gold']\n",
    "explode = (0, 0.1)  # Explode the \"Not Accurately Captured\" slice\n",
    "\n",
    "# Create pie plot\n",
    "plt.pie(sizes, explode=explode, labels=labels, colors=colors,\n",
    "        autopct='%1.1f%%', shadow=True, startangle=140)\n",
    "\n",
    "plt.axis('equal')  # Equal aspect ratio ensures the pie is drawn as a circle.\n",
    "plt.title(\"Percentage of Transactions with Inaccurate Destination Balances\")\n",
    "\n",
    "# Display the plot\n",
    "plt.show()"
   ]
  },
  {
   "cell_type": "markdown",
   "metadata": {
    "id": "2TWuqxjwJFHG"
   },
   "source": [
    "**Percentage of Fraudulent Transactions where initial balance of originator is 0**"
   ]
  },
  {
   "cell_type": "code",
   "execution_count": 20,
   "metadata": {
    "colab": {
     "base_uri": "https://localhost:8080/",
     "height": 480
    },
    "id": "xmScN3PeZ8hP",
    "outputId": "ced30d14-1fa6-4ec6-bfe3-f46fd8021fb8"
   },
   "outputs": [
    {
     "name": "stdout",
     "output_type": "stream",
     "text": [
      "8213\n",
      "41\n",
      "% of fraudulent transactions where initial balance of originator is 0: 0.499209\n"
     ]
    },
    {
     "data": {
      "image/png": "[encoded data removed]",
      "text/plain": [
       "<Figure size 432x288 with 1 Axes>"
      ]
     },
     "metadata": {},
     "output_type": "display_data"
    }
   ],
   "source": [
    "#for fraudulant data\n",
    "\n",
    "fraud_count=0\n",
    "for i in range(len(data['isFraud'])):\n",
    "  if data['isFraud'].values[i] ==1 :\n",
    "    fraud_count=fraud_count+1\n",
    "print(fraud_count)\n",
    "\n",
    "value_count=0\n",
    "for i in range(len(data['isFraud'])):\n",
    "  if data['isFraud'].values[i] ==1 and data['oldbalanceOrg'].values[i]==0 :\n",
    "    value_count=value_count+1\n",
    "print(value_count)\n",
    "\n",
    "\n",
    "percentage=(value_count/fraud_count)*100\n",
    "print(f\"% of fraudulent transactions where initial balance of originator is 0: {percentage:2f}\")\n",
    "\n",
    "labels = [\"Initial Balance Not 0\", \"Initial Balance 0\"]\n",
    "sizes = [100 - percentage, percentage]\n",
    "colors = ['lightskyblue', 'gold']\n",
    "explode = (0, 0.1)  # Explode the \"Initial Balance 0\" slice\n",
    "\n",
    "# Create pie plot\n",
    "plt.pie(sizes, explode=explode, labels=labels, colors=colors,\n",
    "        autopct='%1.1f%%', shadow=True, startangle=140)\n",
    "\n",
    "plt.axis('equal')  # Equal aspect ratio ensures the pie is drawn as a circle.\n",
    "plt.title(\"Percentage of Fraudulent Transactions where initial balance of originator is 0\")\n",
    "\n",
    "# Display the plot\n",
    "plt.show()"
   ]
  },
  {
   "cell_type": "markdown",
   "metadata": {
    "id": "mXwkNXDNJW4S"
   },
   "source": [
    "**Percentage of Non Fraudulent Transactions where initial balance of originator is 0**"
   ]
  },
  {
   "cell_type": "code",
   "execution_count": 21,
   "metadata": {
    "colab": {
     "base_uri": "https://localhost:8080/",
     "height": 480
    },
    "id": "V7SemlEWCfkp",
    "outputId": "3810e9c9-72fb-41dd-eb95-e2cc33559b3c"
   },
   "outputs": [
    {
     "name": "stdout",
     "output_type": "stream",
     "text": [
      "2762196\n",
      "1308541\n",
      "% of non fraudulent transactions where initial balance of originator is 0: 47.373213\n"
     ]
    },
    {
     "data": {
      "image/png": "[encoded data removed]",
      "text/plain": [
       "<Figure size 432x288 with 1 Axes>"
      ]
     },
     "metadata": {},
     "output_type": "display_data"
    }
   ],
   "source": [
    "#for non fraudulant data\n",
    "\n",
    "fraud_count=0\n",
    "for i in range(len(data['isFraud'])):\n",
    "  if data['isFraud'].values[i] ==0 :\n",
    "    fraud_count=fraud_count+1\n",
    "print(fraud_count)\n",
    "\n",
    "value_count=0\n",
    "for i in range(len(data['isFraud'])):\n",
    "  if data['isFraud'].values[i] ==0 and data['oldbalanceOrg'].values[i]==0 :\n",
    "    value_count=value_count+1\n",
    "print(value_count)\n",
    "\n",
    "\n",
    "percentage=(value_count/fraud_count)*100\n",
    "print(f\"% of non fraudulent transactions where initial balance of originator is 0: {percentage:2f}\")\n",
    "\n",
    "labels = [\"Initial Balance Not 0\", \"Initial Balance 0\"]\n",
    "sizes = [100 - percentage, percentage]\n",
    "colors = ['lightskyblue', 'gold']\n",
    "explode = (0, 0.1)  # Explode the \"Initial Balance 0\" slice\n",
    "\n",
    "# Create pie plot\n",
    "plt.pie(sizes, explode=explode, labels=labels, colors=colors,\n",
    "        autopct='%1.001f%%', shadow=True, startangle=140)\n",
    "\n",
    "plt.axis('equal')  # Equal aspect ratio ensures the pie is drawn as a circle.\n",
    "plt.title(\"Percentage of Non Fraudulent Transactions where initial balance of originator is 0\")\n",
    "\n",
    "# Display the plot\n",
    "plt.show()"
   ]
  },
  {
   "cell_type": "markdown",
   "metadata": {
    "id": "kHSEpOhOKMb1"
   },
   "source": [
    "**Drop 'nameOrig', 'nameDest','isFlaggedFraud','step' column**"
   ]
  },
  {
   "cell_type": "code",
   "execution_count": 22,
   "metadata": {
    "colab": {
     "base_uri": "https://localhost:8080/"
    },
    "id": "oAcfEIA1CrG5",
    "outputId": "e77b14fc-95ef-460f-cb57-8a604d6527e7"
   },
   "outputs": [
    {
     "name": "stdout",
     "output_type": "stream",
     "text": [
      "        type     amount  oldbalanceOrg  newbalanceOrig  oldbalanceDest  \\\n",
      "2   TRANSFER     181.00          181.0             0.0             0.0   \n",
      "3   CASH_OUT     181.00          181.0             0.0         21182.0   \n",
      "15  CASH_OUT  229133.94        15325.0             0.0          5083.0   \n",
      "19  TRANSFER  215310.30          705.0             0.0         22425.0   \n",
      "24  TRANSFER  311685.89        10835.0             0.0          6267.0   \n",
      "\n",
      "    newbalanceDest  isFraud  \n",
      "2             0.00        1  \n",
      "3             0.00        1  \n",
      "15        51513.44        0  \n",
      "19            0.00        0  \n",
      "24      2719172.89        0  \n"
     ]
    },
    {
     "data": {
      "text/plain": [
       "2770409"
      ]
     },
     "execution_count": 22,
     "metadata": {},
     "output_type": "execute_result"
    }
   ],
   "source": [
    "data1 = data.drop(['nameOrig', 'nameDest','isFlaggedFraud','step'], axis=1)\n",
    "print(data1.head())\n",
    "len(data1)"
   ]
  },
  {
   "cell_type": "markdown",
   "metadata": {
    "id": "fq74QntYgV-R"
   },
   "source": [
    " **Test train spliting precess**"
   ]
  },
  {
   "cell_type": "code",
   "execution_count": 23,
   "metadata": {
    "colab": {
     "base_uri": "https://localhost:8080/"
    },
    "id": "Ra_tGdrjgtM9",
    "outputId": "833bc691-7ce8-408f-9bed-f0e577efacf9"
   },
   "outputs": [
    {
     "name": "stdout",
     "output_type": "stream",
     "text": [
      "len of train data 1939286\n",
      "len of test data 831123\n"
     ]
    }
   ],
   "source": [
    "from sklearn.model_selection import train_test_split\n",
    "train_data,test_data=train_test_split(data1,test_size=0.3,random_state=21)\n",
    "print(\"len of train data\",len(train_data))\n",
    "print(\"len of test data\",len(test_data))"
   ]
  },
  {
   "cell_type": "markdown",
   "metadata": {
    "id": "5QNL-B1hKkVx"
   },
   "source": [
    "**Separating lable column(isFraud) from train and test dataset**"
   ]
  },
  {
   "cell_type": "code",
   "execution_count": 24,
   "metadata": {
    "colab": {
     "base_uri": "https://localhost:8080/"
    },
    "id": "i1Apgt6LhJNR",
    "outputId": "c168f1f7-053a-4d67-de26-9b41e2f70f41"
   },
   "outputs": [
    {
     "name": "stdout",
     "output_type": "stream",
     "text": [
      "<class 'pandas.core.series.Series'>\n"
     ]
    }
   ],
   "source": [
    "\n",
    "\n",
    "#training data\n",
    "x_train=train_data.drop([\"isFraud\"],axis=1)\n",
    "y_train=train_data[\"isFraud\"]\n",
    "\n",
    "\n",
    "\n",
    "#testing data\n",
    "x_test=test_data.drop(\"isFraud\",axis=1)\n",
    "y_test=test_data[\"isFraud\"]\n",
    "\n",
    "\n",
    "\n",
    "print(type(y_train))"
   ]
  },
  {
   "cell_type": "markdown",
   "metadata": {
    "id": "Tnk7_PlBLD-G"
   },
   "source": [
    "**Pipeline designing**"
   ]
  },
  {
   "cell_type": "code",
   "execution_count": 25,
   "metadata": {
    "colab": {
     "base_uri": "https://localhost:8080/"
    },
    "id": "MFCswRgnkFoY",
    "outputId": "836cb8fe-6c42-44cc-8444-26b8bd6e70d2"
   },
   "outputs": [
    {
     "name": "stdout",
     "output_type": "stream",
     "text": [
      "            amount  oldbalanceOrg  newbalanceOrig  oldbalanceDest  \\\n",
      "3864311   29390.09       14877.00            0.00            0.00   \n",
      "3778961  154468.14       65988.00            0.00        71873.76   \n",
      "6147088  284988.40       12351.00            0.00        39648.24   \n",
      "4715397   32333.82           0.00            0.00       852397.79   \n",
      "2427658   47606.16      107049.00        59442.84       367286.74   \n",
      "...            ...            ...             ...             ...   \n",
      "156780   777758.21      102466.00            0.00            0.00   \n",
      "2573291  368448.02           0.00            0.00       605806.27   \n",
      "1516393   90140.43           0.00            0.00       147255.11   \n",
      "455773   575644.53      233100.02            0.00       854951.67   \n",
      "4347167   68405.72           0.00            0.00        83057.26   \n",
      "\n",
      "         newbalanceDest  \n",
      "3864311        29390.09  \n",
      "3778961       226341.90  \n",
      "6147088       324636.64  \n",
      "4715397       884731.61  \n",
      "2427658       414892.91  \n",
      "...                 ...  \n",
      "156780        777758.21  \n",
      "2573291       974254.29  \n",
      "1516393       237395.53  \n",
      "455773       1430596.20  \n",
      "4347167       151462.98  \n",
      "\n",
      "[1939286 rows x 5 columns]\n"
     ]
    }
   ],
   "source": [
    "from sklearn.pipeline import Pipeline\n",
    "from sklearn.preprocessing import MinMaxScaler,OneHotEncoder\n",
    "\n",
    "#numerical features\n",
    "num_feats=x_train.drop(\"type\",axis=1)\n",
    "num_feats_pipe=Pipeline([\n",
    "    (\"scalar\",MinMaxScaler())\n",
    "    ])\n",
    "num_feats_preprocessed=num_feats_pipe.fit_transform(num_feats)\n",
    "\n",
    "#catagorical features\n",
    "cat_feats=x_train[[\"type\"]]\n",
    "cat_feats_pipe=Pipeline([\n",
    "    (\"encoder\",OneHotEncoder())\n",
    "    ])\n",
    "cat_feats_preprocessed=cat_feats_pipe.fit_transform(cat_feats)\n",
    "print(num_feats)\n"
   ]
  },
  {
   "cell_type": "markdown",
   "metadata": {
    "id": "NkegRCm9LMRu"
   },
   "source": [
    "**Final pipeline**"
   ]
  },
  {
   "cell_type": "code",
   "execution_count": 26,
   "metadata": {
    "colab": {
     "base_uri": "https://localhost:8080/"
    },
    "id": "ZMOHL040vfNm",
    "outputId": "cf4d8c00-3e7f-49d9-e5d4-e08810241145"
   },
   "outputs": [
    {
     "name": "stdout",
     "output_type": "stream",
     "text": [
      "             type     amount  oldbalanceOrg  newbalanceOrig  oldbalanceDest  \\\n",
      "3864311  TRANSFER   29390.09       14877.00            0.00            0.00   \n",
      "3778961  CASH_OUT  154468.14       65988.00            0.00        71873.76   \n",
      "6147088  CASH_OUT  284988.40       12351.00            0.00        39648.24   \n",
      "4715397  CASH_OUT   32333.82           0.00            0.00       852397.79   \n",
      "2427658  CASH_OUT   47606.16      107049.00        59442.84       367286.74   \n",
      "...           ...        ...            ...             ...             ...   \n",
      "156780   TRANSFER  777758.21      102466.00            0.00            0.00   \n",
      "2573291  CASH_OUT  368448.02           0.00            0.00       605806.27   \n",
      "1516393  CASH_OUT   90140.43           0.00            0.00       147255.11   \n",
      "455773   TRANSFER  575644.53      233100.02            0.00       854951.67   \n",
      "4347167  CASH_OUT   68405.72           0.00            0.00        83057.26   \n",
      "\n",
      "         newbalanceDest  \n",
      "3864311        29390.09  \n",
      "3778961       226341.90  \n",
      "6147088       324636.64  \n",
      "4715397       884731.61  \n",
      "2427658       414892.91  \n",
      "...                 ...  \n",
      "156780        777758.21  \n",
      "2573291       974254.29  \n",
      "1516393       237395.53  \n",
      "455773       1430596.20  \n",
      "4347167       151462.98  \n",
      "\n",
      "[1939286 rows x 6 columns]\n"
     ]
    },
    {
     "data": {
      "text/plain": [
       "array([[3.36382277e-03, 3.67103538e-04, 0.00000000e+00, ...,\n",
       "        1.55015961e-02, 1.00000000e+00, 0.00000000e+00],\n",
       "       [2.78965548e-04, 1.57250330e-04, 0.00000000e+00, ...,\n",
       "        6.04529651e-05, 1.00000000e+00, 0.00000000e+00],\n",
       "       [7.93720827e-04, 0.00000000e+00, 0.00000000e+00, ...,\n",
       "        1.00225831e-03, 1.00000000e+00, 0.00000000e+00],\n",
       "       ...,\n",
       "       [3.70686495e-02, 1.85933292e-04, 0.00000000e+00, ...,\n",
       "        2.59405100e-02, 0.00000000e+00, 1.00000000e+00],\n",
       "       [3.07404349e-03, 7.50537521e-04, 0.00000000e+00, ...,\n",
       "        6.66157686e-04, 1.00000000e+00, 0.00000000e+00],\n",
       "       [7.62723453e-04, 0.00000000e+00, 0.00000000e+00, ...,\n",
       "        8.21207093e-04, 1.00000000e+00, 0.00000000e+00]])"
      ]
     },
     "execution_count": 26,
     "metadata": {},
     "output_type": "execute_result"
    }
   ],
   "source": [
    "\n",
    "from sklearn.compose import ColumnTransformer\n",
    "num_list=list(num_feats)\n",
    "cat_list=list(cat_feats)\n",
    "\n",
    "final_pipeline=ColumnTransformer([\n",
    "    (\"num\",num_feats_pipe,num_list),\n",
    "    (\"cat\",cat_feats_pipe,cat_list)])\n",
    "X_train_preprocessed=final_pipeline.fit_transform(x_train)\n",
    "print(x_train)\n",
    "X_train_preprocessed\n",
    "\n",
    "X_test_preprocessed = final_pipeline.fit_transform(x_test)\n",
    "X_test_preprocessed"
   ]
  },
  {
   "cell_type": "markdown",
   "metadata": {
    "id": "pU6KglC9LXPZ"
   },
   "source": [
    "# Ml models"
   ]
  },
  {
   "cell_type": "markdown",
   "metadata": {
    "id": "DoewAWyYU0Uq"
   },
   "source": [
    "# **logistic regression**"
   ]
  },
  {
   "cell_type": "code",
   "execution_count": 27,
   "metadata": {
    "id": "ATRar6SnwB7d"
   },
   "outputs": [],
   "source": [
    "from sklearn.linear_model import LogisticRegression\n",
    "model = LogisticRegression()"
   ]
  },
  {
   "cell_type": "code",
   "execution_count": 28,
   "metadata": {
    "colab": {
     "base_uri": "https://localhost:8080/"
    },
    "id": "XpKKH8mhydG1",
    "outputId": "97c80341-1d4a-42be-a21d-5f6c6eca1525"
   },
   "outputs": [],
   "source": [
    "log_model=model.fit(X_train_preprocessed,y_train)"
   ]
  },
  {
   "cell_type": "code",
   "execution_count": 29,
   "metadata": {
    "colab": {
     "base_uri": "https://localhost:8080/"
    },
    "id": "gko37Eflyuxg",
    "outputId": "f7c208a5-11ea-4ec1-80c6-22bcbe112ab7"
   },
   "outputs": [
    {
     "data": {
      "text/plain": [
       "array([0, 0, 0, ..., 0, 0, 0], dtype=int64)"
      ]
     },
     "execution_count": 29,
     "metadata": {},
     "output_type": "execute_result"
    }
   ],
   "source": [
    "y_train_pred = log_model.predict(X_train_preprocessed)\n",
    "y_train_pred"
   ]
  },
  {
   "cell_type": "code",
   "execution_count": 30,
   "metadata": {
    "colab": {
     "base_uri": "https://localhost:8080/"
    },
    "id": "QatJ2ye89r9x",
    "outputId": "1629c795-67eb-4efa-e1b1-20b21de6e565"
   },
   "outputs": [
    {
     "data": {
      "text/plain": [
       "array([0, 0, 0, ..., 0, 0, 0], dtype=int64)"
      ]
     },
     "execution_count": 30,
     "metadata": {},
     "output_type": "execute_result"
    }
   ],
   "source": [
    "y_test_pred=log_model.predict(X_test_preprocessed)\n",
    "y_test_pred"
   ]
  },
  {
   "cell_type": "markdown",
   "metadata": {
    "id": "2kIBAKm8LokX"
   },
   "source": [
    "**Train Confusion Matrix**"
   ]
  },
  {
   "cell_type": "code",
   "execution_count": 31,
   "metadata": {
    "colab": {
     "base_uri": "https://localhost:8080/",
     "height": 410
    },
    "id": "JDbTgySpG59m",
    "outputId": "0752588b-849f-4c97-9485-e8a0ce37ac54"
   },
   "outputs": [
    {
     "data": {
      "image/png": "[encoded data removed]",
      "text/plain": [
       "<Figure size 432x288 with 1 Axes>"
      ]
     },
     "metadata": {
      "needs_background": "light"
     },
     "output_type": "display_data"
    }
   ],
   "source": [
    "from sklearn.metrics import confusion_matrix\n",
    "\n",
    "# Compute the confusion matrix\n",
    "cm = confusion_matrix(y_train, y_train_pred)\n",
    "\n",
    "# Create a heatmap to visualize the confusion matrix\n",
    "plt.figure(figsize=(6, 4))\n",
    "sns.heatmap(cm, annot=True, fmt=\"d\", cmap=\"Blues\", cbar=False)\n",
    "plt.xlabel(\"Predicted Labels \")\n",
    "plt.ylabel(\"True Labels \")\n",
    "plt.title(\" Train Confusion Matrix\")\n",
    "plt.show()\n"
   ]
  },
  {
   "cell_type": "markdown",
   "metadata": {
    "id": "-yOkuSHdLwNg"
   },
   "source": [
    "**Test Confusion Matrix**"
   ]
  },
  {
   "cell_type": "code",
   "execution_count": 32,
   "metadata": {
    "colab": {
     "base_uri": "https://localhost:8080/",
     "height": 410
    },
    "id": "4MuXXCDLFTS_",
    "outputId": "515e0dfb-05e5-4b18-89cc-1c5f03e2a00b"
   },
   "outputs": [
    {
     "data": {
      "image/png": "[encoded data removed]",
      "text/plain": [
       "<Figure size 432x288 with 1 Axes>"
      ]
     },
     "metadata": {
      "needs_background": "light"
     },
     "output_type": "display_data"
    }
   ],
   "source": [
    "from sklearn.metrics import confusion_matrix\n",
    "\n",
    "# Compute the confusion matrix\n",
    "cm = confusion_matrix(y_test, y_test_pred)\n",
    "\n",
    "# Create a heatmap to visualize the confusion matrix\n",
    "plt.figure(figsize=(6, 4))\n",
    "sns.heatmap(cm, annot=True, fmt=\"d\", cmap=\"Blues\", cbar=False)\n",
    "plt.xlabel(\"Predicted Labels \")\n",
    "plt.ylabel(\"True Labels \")\n",
    "plt.title(\" Test Confusion Matrix\")\n",
    "plt.show()\n"
   ]
  },
  {
   "cell_type": "markdown",
   "metadata": {
    "id": "gmT7reQwL2rk"
   },
   "source": [
    "**F1 score of train and test**"
   ]
  },
  {
   "cell_type": "code",
   "execution_count": 33,
   "metadata": {
    "colab": {
     "base_uri": "https://localhost:8080/"
    },
    "id": "FrBVnoGlAzDU",
    "outputId": "3d055d49-f0e6-4fc4-b86a-55947a5e13f3"
   },
   "outputs": [
    {
     "name": "stdout",
     "output_type": "stream",
     "text": [
      "F1 Score of train data: 0.0\n",
      "F1 Score of test data: 0.0\n"
     ]
    }
   ],
   "source": [
    "from sklearn.metrics import f1_score\n",
    "\n",
    "f1 = f1_score(y_train,y_train_pred)\n",
    "print(\"F1 Score of train data:\", f1)\n",
    "\n",
    "f2 = f1_score(y_test,y_test_pred)\n",
    "print(\"F1 Score of test data:\", f2)"
   ]
  },
  {
   "cell_type": "markdown",
   "metadata": {
    "id": "QqzyjcZRqFUX"
   },
   "source": [
    "# **Random Forest**"
   ]
  },
  {
   "cell_type": "code",
   "execution_count": 34,
   "metadata": {
    "id": "K9-ArxbwqODO"
   },
   "outputs": [],
   "source": [
    "from sklearn.ensemble import RandomForestClassifier\n",
    "\n",
    "# Create a Random Forest classifier\n",
    "rf_model = RandomForestClassifier(n_estimators=100, random_state=21)\n",
    "\n",
    "# Train the model on your training data\n",
    "rf_model.fit(X_train_preprocessed,y_train)\n",
    "\n",
    "# Make predictions on your testing data\n",
    "y_test_pred_rf = rf_model.predict(X_test_preprocessed)\n",
    "\n"
   ]
  },
  {
   "cell_type": "code",
   "execution_count": 35,
   "metadata": {
    "colab": {
     "base_uri": "https://localhost:8080/"
    },
    "id": "fqHJJb66vCzc",
    "outputId": "1a02ea7f-5b76-4594-9577-3be400f04ed3"
   },
   "outputs": [
    {
     "data": {
      "text/plain": [
       "array([0, 0, 0, ..., 0, 0, 0], dtype=int64)"
      ]
     },
     "execution_count": 35,
     "metadata": {},
     "output_type": "execute_result"
    }
   ],
   "source": [
    "# Make predictions on your training data\n",
    "y_train_pred_rf = rf_model.predict(X_train_preprocessed)\n",
    "y_train_pred_rf\n",
    "y_test_pred_rf"
   ]
  },
  {
   "cell_type": "markdown",
   "metadata": {
    "id": "pUG7eoCQMBiR"
   },
   "source": [
    "**F1 score of train and test**"
   ]
  },
  {
   "cell_type": "code",
   "execution_count": 36,
   "metadata": {
    "colab": {
     "base_uri": "https://localhost:8080/"
    },
    "id": "ujhNFM2Sz07E",
    "outputId": "cbb0277b-1c43-4cd3-c092-4ba5fb53fd42"
   },
   "outputs": [
    {
     "name": "stdout",
     "output_type": "stream",
     "text": [
      "F1 Score of train data: 0.9331352154531947\n",
      "F1 Score of test data: 0.8180300500834724\n"
     ]
    }
   ],
   "source": [
    "from sklearn.metrics import f1_score\n",
    "f1 = f1_score(y_train,y_train_pred_rf)\n",
    "print(\"F1 Score of train data:\", f1)\n",
    "\n",
    "f2 = f1_score(y_test,y_test_pred_rf)\n",
    "print(\"F1 Score of test data:\", f2)"
   ]
  },
  {
   "cell_type": "code",
   "execution_count": 37,
   "metadata": {
    "colab": {
     "base_uri": "https://localhost:8080/"
    },
    "id": "I8aKLgVAMbkh",
    "outputId": "c5a4cb6e-893a-4ffb-b6ba-d59e44360b7b"
   },
   "outputs": [
    {
     "name": "stdout",
     "output_type": "stream",
     "text": [
      "              precision    recall  f1-score   support\n",
      "\n",
      "           0       1.00      1.00      1.00    828654\n",
      "           1       0.99      0.69      0.82      2469\n",
      "\n",
      "    accuracy                           1.00    831123\n",
      "   macro avg       1.00      0.85      0.91    831123\n",
      "weighted avg       1.00      1.00      1.00    831123\n",
      "\n"
     ]
    }
   ],
   "source": [
    "from sklearn.metrics import classification_report\n",
    "report = classification_report(y_test, y_test_pred_rf)\n",
    "print(report)"
   ]
  },
  {
   "cell_type": "markdown",
   "metadata": {
    "id": "CLYH5JoAMIC8"
   },
   "source": [
    "**Train Confusion Matrix**"
   ]
  },
  {
   "cell_type": "code",
   "execution_count": 38,
   "metadata": {
    "colab": {
     "base_uri": "https://localhost:8080/",
     "height": 410
    },
    "id": "D-14jeUJCVYZ",
    "outputId": "45ff8019-b83f-4456-84ed-93d4c2c2e283"
   },
   "outputs": [
    {
     "data": {
      "image/png": "[encoded data removed]",
      "text/plain": [
       "<Figure size 432x288 with 1 Axes>"
      ]
     },
     "metadata": {
      "needs_background": "light"
     },
     "output_type": "display_data"
    }
   ],
   "source": [
    "from sklearn.metrics import confusion_matrix\n",
    "\n",
    "# Compute the confusion matrix\n",
    "cm = confusion_matrix(y_train, y_train_pred_rf)\n",
    "\n",
    "# Create a heatmap to visualize the confusion matrix\n",
    "plt.figure(figsize=(6, 4))\n",
    "sns.heatmap(cm, annot=True, fmt=\"d\", cmap=\"Blues\", cbar=False)\n",
    "plt.xlabel(\"Predicted Labels \")\n",
    "plt.ylabel(\"True Labels \")\n",
    "plt.title(\" Train Confusion Matrix\")\n",
    "plt.show()\n"
   ]
  },
  {
   "cell_type": "markdown",
   "metadata": {
    "id": "MKnHfiKEMMB-"
   },
   "source": [
    "**Test Confusion Matrix**"
   ]
  },
  {
   "cell_type": "code",
   "execution_count": 39,
   "metadata": {
    "colab": {
     "base_uri": "https://localhost:8080/",
     "height": 410
    },
    "id": "slzhjfbKC5Ue",
    "outputId": "da6d1185-675c-4834-f26e-a15eb4e4197b"
   },
   "outputs": [
    {
     "data": {
      "image/png": "[encoded data removed]",
      "text/plain": [
       "<Figure size 432x288 with 1 Axes>"
      ]
     },
     "metadata": {
      "needs_background": "light"
     },
     "output_type": "display_data"
    }
   ],
   "source": [
    "from sklearn.metrics import confusion_matrix\n",
    "\n",
    "# Compute the confusion matrix\n",
    "cm = confusion_matrix(y_test, y_test_pred_rf)\n",
    "\n",
    "# Create a heatmap to visualize the confusion matrix\n",
    "plt.figure(figsize=(6, 4))\n",
    "sns.heatmap(cm, annot=True, fmt=\"d\", cmap=\"Blues\", cbar=False)\n",
    "plt.xlabel(\"Predicted Labels \")\n",
    "plt.ylabel(\"True Labels \")\n",
    "plt.title(\" Test Confusion Matrix\")\n",
    "plt.show()\n"
   ]
  },
  {
   "cell_type": "markdown",
   "metadata": {
    "id": "uWWPUTEjrU4Z"
   },
   "source": [
    "# **xgboost**"
   ]
  },
  {
   "cell_type": "code",
   "execution_count": 40,
   "metadata": {},
   "outputs": [
    {
     "name": "stdout",
     "output_type": "stream",
     "text": [
      "Requirement already satisfied: xgboost in c:\\users\\ashac\\anaconda3\\lib\\site-packages (2.0.3)\n",
      "Requirement already satisfied: numpy in c:\\users\\ashac\\anaconda3\\lib\\site-packages (from xgboost) (1.26.3)\n",
      "Requirement already satisfied: scipy in c:\\users\\ashac\\anaconda3\\lib\\site-packages (from xgboost) (1.11.1)\n",
      "Note: you may need to restart the kernel to use updated packages.\n"
     ]
    },
    {
     "name": "stderr",
     "output_type": "stream",
     "text": [
      "\n",
      "[notice] A new release of pip is available: 23.3.2 -> 24.0\n",
      "[notice] To update, run: python.exe -m pip install --upgrade pip\n"
     ]
    }
   ],
   "source": [
    "pip install xgboost\n"
   ]
  },
  {
   "cell_type": "code",
   "execution_count": 41,
   "metadata": {
    "id": "eFfqYgKQrbwt"
   },
   "outputs": [],
   "source": [
    "# import xgboost as xgb\n",
    "import xgboost as xgb\n",
    "\n",
    "\n",
    "# # Create an XGBoost classifier\n",
    "xgb_model = xgb.XGBClassifier(n_estimators=100, random_state=42)\n",
    "\n",
    "# # Train the model on your training data\n",
    "xgb_model.fit(X_train_preprocessed,y_train)\n",
    "\n",
    "# # Make predictions on your testing data\n",
    "y_test_pred_xgb = xgb_model.predict(X_test_preprocessed)\n"
   ]
  },
  {
   "cell_type": "code",
   "execution_count": 42,
   "metadata": {
    "colab": {
     "base_uri": "https://localhost:8080/"
    },
    "id": "61kEkRNWu6UW",
    "outputId": "92af95eb-6938-4492-a7ec-35ad8182c9d9"
   },
   "outputs": [
    {
     "data": {
      "text/plain": [
       "array([0, 0, 0, ..., 0, 0, 0])"
      ]
     },
     "execution_count": 42,
     "metadata": {},
     "output_type": "execute_result"
    }
   ],
   "source": [
    "# # Make predictions on your training data\n",
    "y_train_pred_xgb = rf_model.predict(X_train_preprocessed)\n",
    "y_train_pred_xgb\n",
    "y_test_pred_xgb"
   ]
  },
  {
   "cell_type": "markdown",
   "metadata": {
    "id": "m7O48lrjMZus"
   },
   "source": [
    "**F1 score of train and test**"
   ]
  },
  {
   "cell_type": "code",
   "execution_count": 43,
   "metadata": {
    "colab": {
     "base_uri": "https://localhost:8080/"
    },
    "id": "LTFeVpWH0VRz",
    "outputId": "1d82a3d4-ffed-4f1d-c29e-4209de7a31cf"
   },
   "outputs": [
    {
     "name": "stdout",
     "output_type": "stream",
     "text": [
      "F1 Score of train data: 0.9331352154531947\n",
      "F1 Score of test data: 0.7697270471464019\n"
     ]
    }
   ],
   "source": [
    "f1 = f1_score(y_train,y_train_pred_xgb)\n",
    "print(\"F1 Score of train data:\", f1)\n",
    "\n",
    "f2 = f1_score(y_test,y_test_pred_xgb)\n",
    "print(\"F1 Score of test data:\", f2)"
   ]
  },
  {
   "cell_type": "markdown",
   "metadata": {
    "id": "w4uaWmk4Mjlt"
   },
   "source": [
    "**Train Confusion Matrix**"
   ]
  },
  {
   "cell_type": "code",
   "execution_count": 44,
   "metadata": {
    "colab": {
     "base_uri": "https://localhost:8080/",
     "height": 410
    },
    "id": "6akQvb2uDLS8",
    "outputId": "ed0a08ea-001a-4219-82b7-ec8116923b93"
   },
   "outputs": [
    {
     "data": {
      "image/png": "[encoded data removed]",
      "text/plain": [
       "<Figure size 432x288 with 1 Axes>"
      ]
     },
     "metadata": {
      "needs_background": "light"
     },
     "output_type": "display_data"
    }
   ],
   "source": [
    "from sklearn.metrics import confusion_matrix\n",
    "\n",
    "# # Compute the confusion matrix\n",
    "cm = confusion_matrix(y_train, y_train_pred_xgb)\n",
    "\n",
    "# # Create a heatmap to visualize the confusion matrix\n",
    "plt.figure(figsize=(6, 4))\n",
    "sns.heatmap(cm, annot=True, fmt=\"d\", cmap=\"Blues\", cbar=False)\n",
    "plt.xlabel(\"Predicted Labels \")\n",
    "plt.ylabel(\"True Labels \")\n",
    "plt.title(\" Train Confusion Matrix\")\n",
    "plt.show()\n"
   ]
  },
  {
   "cell_type": "markdown",
   "metadata": {
    "id": "zzwOHvT3MnyH"
   },
   "source": [
    "**Test Confusion Matrix**"
   ]
  },
  {
   "cell_type": "code",
   "execution_count": 45,
   "metadata": {
    "colab": {
     "base_uri": "https://localhost:8080/",
     "height": 410
    },
    "id": "17rl7EcuDXko",
    "outputId": "d7450084-a6cc-4761-8f26-b8b593ed0aea"
   },
   "outputs": [
    {
     "data": {
      "image/png": "[encoded data removed]",
      "text/plain": [
       "<Figure size 432x288 with 1 Axes>"
      ]
     },
     "metadata": {
      "needs_background": "light"
     },
     "output_type": "display_data"
    }
   ],
   "source": [
    "from sklearn.metrics import confusion_matrix\n",
    "\n",
    "# # Compute the confusion matrix\n",
    "cm = confusion_matrix(y_test, y_test_pred_xgb)\n",
    "\n",
    "# # Create a heatmap to visualize the confusion matrix\n",
    "plt.figure(figsize=(6, 4))\n",
    "sns.heatmap(cm, annot=True, fmt=\"d\", cmap=\"Blues\", cbar=False)\n",
    "plt.xlabel(\"Predicted Labels \")\n",
    "plt.ylabel(\"True Labels \")\n",
    "plt.title(\" Test Confusion Matrix\")\n",
    "plt.show()\n"
   ]
  },
  {
   "cell_type": "code",
   "execution_count": 46,
   "metadata": {
    "id": "lNGtzeR3u1jO"
   },
   "outputs": [
    {
     "data": {
      "text/plain": [
       "['banking_app_rf.joblib']"
      ]
     },
     "execution_count": 46,
     "metadata": {},
     "output_type": "execute_result"
    }
   ],
   "source": [
    "from sklearn.ensemble import RandomForestClassifier\n",
    "from joblib import dump, load\n",
    "\n",
    "# Assuming you have trained a RandomForestClassifier and assigned it to 'rf_model'\n",
    "rf_model = RandomForestClassifier()\n",
    "# Train the model with your data (replace this line with your actual training code)\n",
    "\n",
    "# Save your model to a file\n",
    "dump(rf_model, 'banking_app_rf.joblib')"
   ]
  },
  {
   "cell_type": "code",
   "execution_count": 47,
   "metadata": {
    "id": "kYLgAmcpMaLC"
   },
   "outputs": [],
   "source": [
    " loaded_model=load(\"banking_app_rf.joblib\")"
   ]
  },
  {
   "cell_type": "code",
   "execution_count": 48,
   "metadata": {
    "id": "Mb44dw2yNHuB"
   },
   "outputs": [],
   "source": [
    "from joblib import load\n",
    "\n",
    "# Load the model from the file\n",
    "loaded_model = load('banking_app_rf.joblib')\n",
    "\n",
    "# Fit the loaded model on the training data\n",
    "loaded_model.fit(X_train_preprocessed, y_train)\n",
    "\n",
    "# Now you can make predictions using the fitted model\n",
    "predictions = loaded_model.predict(X_train_preprocessed)"
   ]
  },
  {
   "cell_type": "code",
   "execution_count": 49,
   "metadata": {
    "id": "po-fHHxD_x-o"
   },
   "outputs": [
    {
     "data": {
      "text/plain": [
       "['banking_application_xgb.pkl']"
      ]
     },
     "execution_count": 49,
     "metadata": {},
     "output_type": "execute_result"
    }
   ],
   "source": [
    " import joblib\n",
    "# # Save your model to a file\n",
    " joblib.dump('xgb_model', 'banking_application_xgb.pkl')"
   ]
  },
  {
   "cell_type": "code",
   "execution_count": 50,
   "metadata": {
    "id": "M6sMBk3NAA5D"
   },
   "outputs": [
    {
     "data": {
      "text/plain": [
       "['banking_application_lgb.pkl']"
      ]
     },
     "execution_count": 50,
     "metadata": {},
     "output_type": "execute_result"
    }
   ],
   "source": [
    " import joblib\n",
    "# # Save your model to a file\n",
    " joblib.dump('lgb_model', 'banking_application_lgb.pkl')"
   ]
  },
  {
   "cell_type": "code",
   "execution_count": 51,
   "metadata": {
    "id": "LDu6vP4LALZQ"
   },
   "outputs": [],
   "source": [
    " pickle.dump(model, open('xgb_model.pkl', 'wb'))"
   ]
  }
 ],
 "metadata": {
  "accelerator": "GPU",
  "colab": {
   "gpuType": "T4",
   "provenance": []
  },
  "kernelspec": {
   "display_name": "Python 3 (ipykernel)",
   "language": "python",
   "name": "python3"
  },
  "language_info": {
   "codemirror_mode": {
    "name": "ipython",
    "version": 3
   },
   "file_extension": ".py",
   "mimetype": "text/x-python",
   "name": "python",
   "nbconvert_exporter": "python",
   "pygments_lexer": "ipython3",
   "version": "3.12.2"
  }
 },
 "nbformat": 4,
 "nbformat_minor": 1
}
